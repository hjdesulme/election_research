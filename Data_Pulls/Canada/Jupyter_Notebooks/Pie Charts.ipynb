{
 "cells": [
  {
   "cell_type": "markdown",
   "metadata": {},
   "source": [
    "# Files\n",
    "- Consider writing a script that does this ENTIRE process for a directory of CSV files\n",
    "\n",
    "## Cumulative CSV Names\n",
    "1. Candidate-Federal-Australia-Trend.csv\t\n",
    "2. Party-Federal-Australia-Trend.csv\n",
    "\n",
    "## Pie Names\n",
    "1. py.iplot([trace_pie], filename=Candidate-Democratic-Primary-New_York-Pie)\n",
    "2. py.iplot([trace_pie], filename=Candidate-Democratic-Primary-United_States-Pie)\n",
    "3. py.iplot([trace_pie], filename=Candidate-Presidential-California-Pie)\n",
    "4. py.iplot([trace_pie], filename=Candidate-Presidential-Texas-Pie)\n",
    "5. py.iplot([trace_pie], filename=Candidate-Presidential-United_States-Pie)\n",
    "6. py.iplot([trace_pie], filename=Candidate-Republican-Primary-Florida-Pie)\n",
    "7. py.iplot([trace_pie], filename=Candidate-Republican-Primary-United_States-Pie)\n",
    "8. py.iplot([trace_pie], filename=Party-California-Pie)\n",
    "9. py.iplot([trace_pie], filename=Party-Texas-Pie)\n",
    "10. py.iplot([trace_pie], filename=Party-United_States-Pie)"
   ]
  },
  {
   "cell_type": "code",
   "execution_count": 1,
   "metadata": {},
   "outputs": [],
   "source": [
    "import pandas as pd\t\n",
    "\n",
    "import datetime as dt\n",
    "import matplotlib.dates as mdates \n",
    "\n",
    "import matplotlib.pyplot as plt\n",
    "import matplotlib.ticker as ticker\n",
    "\n",
    "from pandas.plotting import register_matplotlib_converters\n",
    "register_matplotlib_converters()"
   ]
  },
  {
   "cell_type": "code",
   "execution_count": 2,
   "metadata": {
    "scrolled": false
   },
   "outputs": [],
   "source": [
    "df = pd.read_csv('../Cumulative_CSV/Candidate-Federal-Canada-Cumulative.csv')\n",
    "list_labels = list(df.columns.values.tolist())\n",
    "list_values = list(df.values[0].tolist()) #accesses the first value and converts it into a list\n",
    "\n",
    "plt.figure(figsize=(7,7)) #(width by height)\n",
    "\n",
    "def make_autopct(values):\n",
    "    def my_autopct(pct):\n",
    "        total = sum(list_values)\n",
    "        val = int(round(pct*total/100.0))\n",
    "        return '{p:.1f}% ({v:d})'.format(p=pct,v=val)\n",
    "    return my_autopct\n",
    "\n",
    "plt.pie(list_values, labels=None, autopct=make_autopct(list_values)) #colors = list_colors\n",
    "plt.legend(loc='lower center', labels=list_labels)\n",
    "#plt.show()\n",
    "\n",
    "plt.savefig('../Pie_Chart_PNG/Candidate-Federal-Canada-Pie.png', format='png') #saving as pngs atm\n",
    "plt.close()"
   ]
  },
  {
   "cell_type": "code",
   "execution_count": 3,
   "metadata": {
    "scrolled": false
   },
   "outputs": [],
   "source": [
    "df = pd.read_csv('../Cumulative_CSV/Party-Federal-English-Canada-Cumulative.csv')\n",
    "list_labels = list(df.columns.values.tolist())\n",
    "list_values = list(df.values[0].tolist()) #accesses the first value and converts it into a list\n",
    "\n",
    "plt.figure(figsize=(7.8,7.8)) #(width by height)\n",
    "\n",
    "def make_autopct(values):\n",
    "    def my_autopct(pct):\n",
    "        total = sum(list_values)\n",
    "        val = int(round(pct*total/100.0))\n",
    "        return '{p:.1f}% ({v:d})'.format(p=pct,v=val)\n",
    "    return my_autopct\n",
    "\n",
    "plt.pie(list_values, labels=None, autopct=make_autopct(list_values)) #colors = list_colors\n",
    "plt.legend(loc='lower center', labels=list_labels)\n",
    "#plt.show()\n",
    "\n",
    "plt.savefig('../Pie_Chart_PNG/Party-Federal-English-Canada-Pie.png', format='png')\n",
    "plt.close()"
   ]
  },
  {
   "cell_type": "code",
   "execution_count": 4,
   "metadata": {},
   "outputs": [],
   "source": [
    "df = pd.read_csv('../Cumulative_CSV/Party-Federal-French-Canada-Cumulative.csv')\n",
    "list_labels = list(df.columns.values.tolist())\n",
    "list_values = list(df.values[0].tolist()) #accesses the first value and converts it into a list\n",
    "\n",
    "plt.figure(figsize=(7.8,7.8)) #(width by height)\n",
    "\n",
    "def make_autopct(values):\n",
    "    def my_autopct(pct):\n",
    "        total = sum(list_values)\n",
    "        val = int(round(pct*total/100.0))\n",
    "        return '{p:.1f}% ({v:d})'.format(p=pct,v=val)\n",
    "    return my_autopct\n",
    "\n",
    "plt.pie(list_values, labels=None, autopct=make_autopct(list_values)) #colors = list_colors\n",
    "plt.legend(loc='lower center', labels=list_labels)\n",
    "#plt.show()\n",
    "\n",
    "plt.savefig('../Pie_Chart_PNG/Party-Federal-French-Canada-Pie.png', format='png')\n",
    "plt.close()"
   ]
  },
  {
   "cell_type": "code",
   "execution_count": null,
   "metadata": {},
   "outputs": [],
   "source": []
  }
 ],
 "metadata": {
  "kernelspec": {
   "display_name": "Python 3",
   "language": "python",
   "name": "python3"
  },
  "language_info": {
   "codemirror_mode": {
    "name": "ipython",
    "version": 3
   },
   "file_extension": ".py",
   "mimetype": "text/x-python",
   "name": "python",
   "nbconvert_exporter": "python",
   "pygments_lexer": "ipython3",
   "version": "3.7.3"
  }
 },
 "nbformat": 4,
 "nbformat_minor": 2
}
