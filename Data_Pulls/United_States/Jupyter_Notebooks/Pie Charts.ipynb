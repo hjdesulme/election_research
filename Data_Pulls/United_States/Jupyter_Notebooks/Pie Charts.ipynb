{
 "cells": [
  {
   "cell_type": "markdown",
   "metadata": {},
   "source": [
    "# Files\n",
    "- Consider writing a script that does this ENTIRE process for a directory of CSV files\n",
    "\n",
    "## Cumulative CSV Names\n",
    "Candidate/Party-(Level_Of_Election_1)-(Level_Of_Election_2)-Location-Trend/Cumulative.csv\n",
    "1. Candidate-Democratic-Primary-New_York-Cumulative.csv\n",
    "2. Candidate-Democratic-Primary-United_States-Cumulative.csv\n",
    "3. Candidate-Presidential-California-Cumulative.csv\n",
    "4. Candidate-Presidential-Texas-Cumulative.csv\n",
    "5. Candidate-Presidential-United_States-Cumulative.csv\n",
    "6. Candidate-Republican-Primary-Florida-Cumulative.csv\n",
    "7. Candidate-Republican-Primary-United_States-Cumulative.csv\n",
    "8. Party-California-Cumulative.csv\n",
    "9. Party-Texas-Cumulative.csv\n",
    "10. Party-United_States-Cumulative.csv\n",
    "\n",
    "## Pie Names\n",
    "1. py.iplot([trace_pie], filename=Candidate-Democratic-Primary-New_York-Pie)\n",
    "2. py.iplot([trace_pie], filename=Candidate-Democratic-Primary-United_States-Pie)\n",
    "3. py.iplot([trace_pie], filename=Candidate-Presidential-California-Pie)\n",
    "4. py.iplot([trace_pie], filename=Candidate-Presidential-Texas-Pie)\n",
    "5. py.iplot([trace_pie], filename=Candidate-Presidential-United_States-Pie)\n",
    "6. py.iplot([trace_pie], filename=Candidate-Republican-Primary-Florida-Pie)\n",
    "7. py.iplot([trace_pie], filename=Candidate-Republican-Primary-United_States-Pie)\n",
    "8. py.iplot([trace_pie], filename=Party-California-Pie)\n",
    "9. py.iplot([trace_pie], filename=Party-Texas-Pie)\n",
    "10. py.iplot([trace_pie], filename=Party-United_States-Pie)"
   ]
  },
  {
   "cell_type": "code",
   "execution_count": 3,
   "metadata": {},
   "outputs": [],
   "source": [
    "import plotly.plotly as py\n",
    "import plotly.graph_objs as go\n",
    "import pandas as pd\n",
    "\n",
    "#Unneccessary at the moment\n",
    "    # import plotly \n",
    "    # plotly.tools.set_credentials_file(username='hdell', api_key='eL5DxD9mCiTzgDkNFGSn')\n",
    "        # NameError: name 'plotly' is not defined\n",
    "        # Change to py"
   ]
  },
  {
   "cell_type": "code",
   "execution_count": 4,
   "metadata": {},
   "outputs": [
    {
     "name": "stderr",
     "output_type": "stream",
     "text": [
      "/Users/handelldesulme/anaconda3/envs/plotly/lib/python3.7/site-packages/IPython/core/display.py:689: UserWarning:\n",
      "\n",
      "Consider using IPython.display.IFrame instead\n",
      "\n"
     ]
    },
    {
     "data": {
      "text/html": [
       "<iframe id=\"igraph\" scrolling=\"no\" style=\"border:none;\" seamless=\"seamless\" src=\"https://plot.ly/~hdell/18.embed\" height=\"525px\" width=\"100%\"></iframe>"
      ],
      "text/plain": [
       "<chart_studio.tools.PlotlyDisplay object>"
      ]
     },
     "execution_count": 4,
     "metadata": {},
     "output_type": "execute_result"
    }
   ],
   "source": [
    "df = pd.read_csv('../Cumulative_CSV/Candidate-Democratic-Primary-New_York-Cumulative.csv') #\n",
    "\n",
    "list_labels = list(df.columns.values.tolist())\n",
    "list_values = list(df.values[0].tolist()) #accesses the first value and converts it into a list\n",
    "\n",
    "trace_pie = go.Pie(labels=list_labels, values=list_values, textinfo='percent+value')\n",
    "\n",
    "py.iplot([trace_pie], filename='Candidate-Democratic-Primary-New_York-Pie')"
   ]
  },
  {
   "cell_type": "code",
   "execution_count": 3,
   "metadata": {},
   "outputs": [
    {
     "data": {
      "text/html": [
       "<iframe id=\"igraph\" scrolling=\"no\" style=\"border:none;\" seamless=\"seamless\" src=\"https://plot.ly/~hdell/20.embed\" height=\"525px\" width=\"100%\"></iframe>"
      ],
      "text/plain": [
       "<chart_studio.tools.PlotlyDisplay object>"
      ]
     },
     "execution_count": 3,
     "metadata": {},
     "output_type": "execute_result"
    }
   ],
   "source": [
    "df = pd.read_csv('../Cumulative_CSV/Candidate-Democratic-Primary-United_States-Cumulative.csv')\n",
    "\n",
    "list_labels = list(df.columns.values.tolist())\n",
    "list_values = list(df.values[0].tolist()) #accesses the first value and converts it into a list\n",
    "\n",
    "trace_pie = go.Pie(labels=list_labels, values=list_values, textinfo='percent+value')\n",
    "\n",
    "py.iplot([trace_pie], filename='Candidate-Democratic-Primary-United_States-Pie')"
   ]
  },
  {
   "cell_type": "code",
   "execution_count": 4,
   "metadata": {},
   "outputs": [
    {
     "data": {
      "text/html": [
       "<iframe id=\"igraph\" scrolling=\"no\" style=\"border:none;\" seamless=\"seamless\" src=\"https://plot.ly/~hdell/22.embed\" height=\"525px\" width=\"100%\"></iframe>"
      ],
      "text/plain": [
       "<chart_studio.tools.PlotlyDisplay object>"
      ]
     },
     "execution_count": 4,
     "metadata": {},
     "output_type": "execute_result"
    }
   ],
   "source": [
    "df = pd.read_csv('../Cumulative_CSV/Candidate-Presidential-California-Cumulative.csv')\n",
    "\n",
    "list_labels = list(df.columns.values.tolist())\n",
    "list_values = list(df.values[0].tolist()) #accesses the first value and converts it into a list\n",
    "\n",
    "trace_pie = go.Pie(labels=list_labels, values=list_values, textinfo='percent+value')\n",
    "\n",
    "py.iplot([trace_pie], filename='Candidate-Presidential-California-Pie')"
   ]
  },
  {
   "cell_type": "code",
   "execution_count": 5,
   "metadata": {},
   "outputs": [
    {
     "data": {
      "text/html": [
       "<iframe id=\"igraph\" scrolling=\"no\" style=\"border:none;\" seamless=\"seamless\" src=\"https://plot.ly/~hdell/24.embed\" height=\"525px\" width=\"100%\"></iframe>"
      ],
      "text/plain": [
       "<chart_studio.tools.PlotlyDisplay object>"
      ]
     },
     "execution_count": 5,
     "metadata": {},
     "output_type": "execute_result"
    }
   ],
   "source": [
    "df = pd.read_csv('../Cumulative_CSV/Candidate-Presidential-Texas-Cumulative.csv')\n",
    "\n",
    "list_labels = list(df.columns.values.tolist())\n",
    "list_values = list(df.values[0].tolist()) #accesses the first value and converts it into a list\n",
    "\n",
    "trace_pie = go.Pie(labels=list_labels, values=list_values, textinfo='percent+value')\n",
    "\n",
    "py.iplot([trace_pie], filename='Candidate-Presidential-Texas-Pie')"
   ]
  },
  {
   "cell_type": "code",
   "execution_count": 6,
   "metadata": {},
   "outputs": [
    {
     "data": {
      "text/html": [
       "<iframe id=\"igraph\" scrolling=\"no\" style=\"border:none;\" seamless=\"seamless\" src=\"https://plot.ly/~hdell/26.embed\" height=\"525px\" width=\"100%\"></iframe>"
      ],
      "text/plain": [
       "<chart_studio.tools.PlotlyDisplay object>"
      ]
     },
     "execution_count": 6,
     "metadata": {},
     "output_type": "execute_result"
    }
   ],
   "source": [
    "df = pd.read_csv('../Cumulative_CSV/Candidate-Presidential-United_States-Cumulative.csv')\n",
    "\n",
    "list_labels = list(df.columns.values.tolist())\n",
    "list_values = list(df.values[0].tolist()) #accesses the first value and converts it into a list\n",
    "\n",
    "trace_pie = go.Pie(labels=list_labels, values=list_values, textinfo='percent+value')\n",
    "\n",
    "py.iplot([trace_pie], filename='Candidate-Presidential-United_States-Pie')"
   ]
  },
  {
   "cell_type": "code",
   "execution_count": 7,
   "metadata": {},
   "outputs": [
    {
     "data": {
      "text/html": [
       "<iframe id=\"igraph\" scrolling=\"no\" style=\"border:none;\" seamless=\"seamless\" src=\"https://plot.ly/~hdell/28.embed\" height=\"525px\" width=\"100%\"></iframe>"
      ],
      "text/plain": [
       "<chart_studio.tools.PlotlyDisplay object>"
      ]
     },
     "execution_count": 7,
     "metadata": {},
     "output_type": "execute_result"
    }
   ],
   "source": [
    "df = pd.read_csv('../Cumulative_CSV/Candidate-Republican-Primary-Florida-Cumulative.csv')\n",
    "\n",
    "list_labels = list(df.columns.values.tolist())\n",
    "list_values = list(df.values[0].tolist()) #accesses the first value and converts it into a list\n",
    "\n",
    "trace_pie = go.Pie(labels=list_labels, values=list_values, textinfo='percent+value')\n",
    "\n",
    "py.iplot([trace_pie], filename='Candidate-Republican-Primary-Florida-Pie')"
   ]
  },
  {
   "cell_type": "code",
   "execution_count": 8,
   "metadata": {},
   "outputs": [
    {
     "data": {
      "text/html": [
       "<iframe id=\"igraph\" scrolling=\"no\" style=\"border:none;\" seamless=\"seamless\" src=\"https://plot.ly/~hdell/30.embed\" height=\"525px\" width=\"100%\"></iframe>"
      ],
      "text/plain": [
       "<chart_studio.tools.PlotlyDisplay object>"
      ]
     },
     "execution_count": 8,
     "metadata": {},
     "output_type": "execute_result"
    }
   ],
   "source": [
    "df = pd.read_csv('../Cumulative_CSV/Candidate-Republican-Primary-United_States-Cumulative.csv')\n",
    "\n",
    "list_labels = list(df.columns.values.tolist())\n",
    "list_values = list(df.values[0].tolist()) #accesses the first value and converts it into a list\n",
    "\n",
    "trace_pie = go.Pie(labels=list_labels, values=list_values, textinfo='percent+value')\n",
    "\n",
    "py.iplot([trace_pie], filename='Candidate-Republican-Primary-United_States-Pie')"
   ]
  },
  {
   "cell_type": "code",
   "execution_count": 10,
   "metadata": {},
   "outputs": [
    {
     "data": {
      "text/html": [
       "<iframe id=\"igraph\" scrolling=\"no\" style=\"border:none;\" seamless=\"seamless\" src=\"https://plot.ly/~hdell/32.embed\" height=\"525px\" width=\"100%\"></iframe>"
      ],
      "text/plain": [
       "<chart_studio.tools.PlotlyDisplay object>"
      ]
     },
     "execution_count": 10,
     "metadata": {},
     "output_type": "execute_result"
    }
   ],
   "source": [
    "df = pd.read_csv('../Cumulative_CSV/Party-California-Cumulative.csv')\n",
    "\n",
    "list_labels = list(df.columns.values.tolist())\n",
    "list_values = list(df.values[0].tolist()) #accesses the first value and converts it into a list\n",
    "\n",
    "trace_pie = go.Pie(labels=list_labels, values=list_values, textinfo='percent+value')\n",
    "\n",
    "py.iplot([trace_pie], filename='Party-California-Pie')"
   ]
  },
  {
   "cell_type": "code",
   "execution_count": 11,
   "metadata": {},
   "outputs": [
    {
     "data": {
      "text/html": [
       "<iframe id=\"igraph\" scrolling=\"no\" style=\"border:none;\" seamless=\"seamless\" src=\"https://plot.ly/~hdell/34.embed\" height=\"525px\" width=\"100%\"></iframe>"
      ],
      "text/plain": [
       "<chart_studio.tools.PlotlyDisplay object>"
      ]
     },
     "execution_count": 11,
     "metadata": {},
     "output_type": "execute_result"
    }
   ],
   "source": [
    "df = pd.read_csv('../Cumulative_CSV/Party-Texas-Cumulative.csv')\n",
    "\n",
    "list_labels = list(df.columns.values.tolist())\n",
    "list_values = list(df.values[0].tolist()) #accesses the first value and converts it into a list\n",
    "\n",
    "trace_pie = go.Pie(labels=list_labels, values=list_values, textinfo='percent+value')\n",
    "\n",
    "py.iplot([trace_pie], filename='Party-Texas-Pie')"
   ]
  },
  {
   "cell_type": "code",
   "execution_count": 12,
   "metadata": {},
   "outputs": [
    {
     "data": {
      "text/html": [
       "<iframe id=\"igraph\" scrolling=\"no\" style=\"border:none;\" seamless=\"seamless\" src=\"https://plot.ly/~hdell/36.embed\" height=\"525px\" width=\"100%\"></iframe>"
      ],
      "text/plain": [
       "<chart_studio.tools.PlotlyDisplay object>"
      ]
     },
     "execution_count": 12,
     "metadata": {},
     "output_type": "execute_result"
    }
   ],
   "source": [
    "df = pd.read_csv('../Cumulative_CSV/Party-United_States-Cumulative.csv')\n",
    "\n",
    "list_labels = list(df.columns.values.tolist())\n",
    "list_values = list(df.values[0].tolist()) #accesses the first value and converts it into a list\n",
    "\n",
    "trace_pie = go.Pie(labels=list_labels, values=list_values, textinfo='percent+value')\n",
    "\n",
    "py.iplot([trace_pie], filename='Party-United_States-Pie')"
   ]
  },
  {
   "cell_type": "code",
   "execution_count": 1,
   "metadata": {},
   "outputs": [],
   "source": [
    "import pandas as pd\t\n",
    "\n",
    "import datetime as dt\n",
    "import matplotlib.dates as mdates \n",
    "\n",
    "import matplotlib.pyplot as plt\n",
    "import matplotlib.ticker as ticker\n",
    "\n",
    "from pandas.plotting import register_matplotlib_converters\n",
    "register_matplotlib_converters()"
   ]
  },
  {
   "cell_type": "code",
   "execution_count": 33,
   "metadata": {},
   "outputs": [
    {
     "data": {
      "image/png": "[encoded data removed]",
      "text/plain": [
       "<Figure size 504x504 with 1 Axes>"
      ]
     },
     "metadata": {},
     "output_type": "display_data"
    }
   ],
   "source": [
    "df = pd.read_csv('../Cumulative_CSV/Party-United_States-Cumulative.csv')\n",
    "list_labels = list(df.columns.values.tolist())\n",
    "list_values = list(df.values[0].tolist()) #accesses the first value and converts it into a list\n",
    "#list_colors = ['b', 'r']\n",
    "\n",
    "plt.figure(figsize=(7,7)) #(width by height)\n",
    "\n",
    "def make_autopct(values):\n",
    "    def my_autopct(pct):\n",
    "        total = sum(list_values)\n",
    "        val = int(round(pct*total/100.0))\n",
    "        return '{p:.1f}% ({v:d})'.format(p=pct,v=val)\n",
    "    return my_autopct\n",
    "\n",
    "plt.pie(list_values, labels=None, autopct=make_autopct(list_values)) #colors = list_colors\n",
    "plt.legend(loc='lower center', labels=list_labels)\n",
    "plt.show()\n"
   ]
  },
  {
   "cell_type": "code",
   "execution_count": null,
   "metadata": {},
   "outputs": [],
   "source": []
  }
 ],
 "metadata": {
  "kernelspec": {
   "display_name": "Python 3",
   "language": "python",
   "name": "python3"
  },
  "language_info": {
   "codemirror_mode": {
    "name": "ipython",
    "version": 3
   },
   "file_extension": ".py",
   "mimetype": "text/x-python",
   "name": "python",
   "nbconvert_exporter": "python",
   "pygments_lexer": "ipython3",
   "version": "3.7.1"
  }
 },
 "nbformat": 4,
 "nbformat_minor": 2
}
