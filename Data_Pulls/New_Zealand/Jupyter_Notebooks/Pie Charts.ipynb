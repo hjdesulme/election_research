{
 "cells": [
  {
   "cell_type": "code",
   "execution_count": 1,
   "metadata": {},
   "outputs": [],
   "source": [
    "import pandas as pd\t\n",
    "\n",
    "import datetime as dt\n",
    "import matplotlib.dates as mdates \n",
    "\n",
    "import matplotlib.pyplot as plt\n",
    "import matplotlib.ticker as ticker\n",
    "\n",
    "from pandas.plotting import register_matplotlib_converters\n",
    "register_matplotlib_converters()"
   ]
  },
  {
   "cell_type": "code",
   "execution_count": 16,
   "metadata": {},
   "outputs": [],
   "source": [
    "df = pd.read_csv('../Cumulative_CSV/Candidate-Parliamentary-New_Zealand-Cumulative.csv')\n",
    "list_labels = list(df.columns.values.tolist())\n",
    "list_values = list(df.values[0].tolist()) #accesses the first value and converts it into a list\n",
    "\n",
    "plt.figure(figsize=(7.8,7.8)) #(width by height)\n",
    "\n",
    "def make_autopct(values):\n",
    "    def my_autopct(pct):\n",
    "        total = sum(list_values)\n",
    "        val = int(round(pct*total/100.0))\n",
    "        return '{p:.1f}% ({v:d})'.format(p=pct,v=val)\n",
    "    return my_autopct\n",
    "\n",
    "#descriptive information\n",
    "plt.title('Candidate-Parliamentary-New_Zealand-Pie')\n",
    "\n",
    "plt.pie(list_values, labels=None, autopct=make_autopct(list_values)) #colors = list_colors\n",
    "plt.legend(loc='lower center', labels=list_labels)\n",
    "#plt.show()\n",
    "\n",
    "plt.savefig('../Pie_Chart_PNG/Candidate-Parliamentary-New_Zealand-Pie.png', format='png')\n",
    "plt.close()"
   ]
  },
  {
   "cell_type": "code",
   "execution_count": 17,
   "metadata": {},
   "outputs": [],
   "source": [
    "df = pd.read_csv('../Cumulative_CSV/Party-Parliamentary-New_Zealand-Cumulative.csv')\n",
    "list_labels = list(df.columns.values.tolist())\n",
    "list_values = list(df.values[0].tolist()) #accesses the first value and converts it into a list\n",
    "\n",
    "plt.figure(figsize=(7.8,7.8)) #(width by height)\n",
    "\n",
    "def make_autopct(values):\n",
    "    def my_autopct(pct):\n",
    "        total = sum(list_values)\n",
    "        val = int(round(pct*total/100.0))\n",
    "        return '{p:.1f}% ({v:d})'.format(p=pct,v=val)\n",
    "    return my_autopct\n",
    "\n",
    "#descriptive information\n",
    "plt.title('Party-Parliamentary-New_Zealand-Pie')\n",
    "\n",
    "plt.pie(list_values, labels=None, autopct=make_autopct(list_values)) #colors = list_colors\n",
    "plt.legend(loc='lower center', labels=list_labels)\n",
    "#plt.show()\n",
    "\n",
    "plt.savefig('../Pie_Chart_PNG/Party-Parliamentary-New_Zealand-Pie.png', format='png') #saving as pngs atm\n",
    "plt.close()"
   ]
  },
  {
   "cell_type": "code",
   "execution_count": null,
   "metadata": {},
   "outputs": [],
   "source": []
  }
 ],
 "metadata": {
  "kernelspec": {
   "display_name": "Python 3",
   "language": "python",
   "name": "python3"
  },
  "language_info": {
   "codemirror_mode": {
    "name": "ipython",
    "version": 3
   },
   "file_extension": ".py",
   "mimetype": "text/x-python",
   "name": "python",
   "nbconvert_exporter": "python",
   "pygments_lexer": "ipython3",
   "version": "3.7.3"
  }
 },
 "nbformat": 4,
 "nbformat_minor": 2
}
